{
 "cells": [
  {
   "cell_type": "markdown",
   "id": "9645e2c0",
   "metadata": {},
   "source": [
    "# Train-Test Split\n",
    "\n",
    "In Machine Learning, we split the dataset into **training** and **testing** parts to evaluate model performance.\n",
    "\n",
    "---\n",
    "\n",
    "## Why Split the Data?\n",
    "- **Training Set** → used to fit/train the model  \n",
    "- **Testing Set** → used to evaluate how well the model generalizes to unseen data  \n",
    "\n",
    "This prevents **overfitting**, where a model performs well on training data but poorly on new/unseen data.\n",
    "\n",
    "---\n",
    "\n",
    "## Typical Ratios\n",
    "- 70% Training, 30% Testing\n",
    "- 80% Training, 20% Testing\n",
    "- 60% Training, 40% Testing\n",
    "\n",
    "---\n",
    "\n",
    "## Formula\n",
    "If total data = $N$:\n",
    "\n",
    "$$\n",
    "N_{train} = p \\times N, \\quad N_{test} = (1-p) \\times N\n",
    "$$\n",
    "\n",
    "where:  \n",
    "- $N_{train}$ → number of training samples  \n",
    "- $N_{test}$ → number of testing samples  \n",
    "- $p$ → proportion for training (e.g., 0.8)  \n"
   ]
  },
  {
   "cell_type": "code",
   "execution_count": 7,
   "id": "36550f8b",
   "metadata": {},
   "outputs": [
    {
     "name": "stdout",
     "output_type": "stream",
     "text": [
      "Training Data (X_train): [1 8 3 5 4 7]\n",
      "Training Labels (y_train): [10 80 30 50 40 70]\n",
      "Testing Data (X_test): [2 6]\n",
      "Testing Labels (y_test): [20 60]\n"
     ]
    }
   ],
   "source": [
    "from sklearn.model_selection import train_test_split\n",
    "import numpy as np\n",
    "\n",
    "# Sample dataset\n",
    "X = np.array([[1], [2], [3], [4], [5], [6], [7], [8]])\n",
    "y = np.array([10, 20, 30, 40, 50, 60, 70, 80])\n",
    "\n",
    "# Split into 75% train and 25% test\n",
    "X_train, X_test, y_train, y_test = train_test_split(\n",
    "    X, y, test_size=0.25, random_state=42, shuffle=True\n",
    ")\n",
    "\n",
    "print(\"Training Data (X_train):\", X_train.flatten())\n",
    "print(\"Training Labels (y_train):\", y_train)\n",
    "print(\"Testing Data (X_test):\", X_test.flatten())\n",
    "print(\"Testing Labels (y_test):\", y_test)"
   ]
  },
  {
   "cell_type": "code",
   "execution_count": null,
   "id": "a41001e2",
   "metadata": {},
   "outputs": [],
   "source": []
  }
 ],
 "metadata": {
  "kernelspec": {
   "display_name": "base",
   "language": "python",
   "name": "python3"
  },
  "language_info": {
   "codemirror_mode": {
    "name": "ipython",
    "version": 3
   },
   "file_extension": ".py",
   "mimetype": "text/x-python",
   "name": "python",
   "nbconvert_exporter": "python",
   "pygments_lexer": "ipython3",
   "version": "3.12.7"
  }
 },
 "nbformat": 4,
 "nbformat_minor": 5
}
