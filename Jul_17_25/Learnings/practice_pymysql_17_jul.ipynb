{
 "cells": [
  {
   "cell_type": "code",
   "execution_count": 1,
   "id": "f2e08243-dc2b-44af-867a-4570a7855d7e",
   "metadata": {},
   "outputs": [
    {
     "name": "stdout",
     "output_type": "stream",
     "text": [
      "Requirement already satisfied: pymysql in c:\\users\\dell\\anaconda3\\lib\\site-packages (1.1.1)\n",
      "Note: you may need to restart the kernel to use updated packages.\n"
     ]
    }
   ],
   "source": [
    "pip install pymysql"
   ]
  },
  {
   "cell_type": "code",
   "execution_count": 3,
   "id": "f97346bc-bc43-4a58-bdf4-d22f7bc97862",
   "metadata": {},
   "outputs": [],
   "source": [
    "import pymysql "
   ]
  },
  {
   "cell_type": "code",
   "execution_count": 5,
   "id": "a239138f-7fe9-489a-898b-8a7acccfeca8",
   "metadata": {},
   "outputs": [],
   "source": [
    "conn=pymysql.connect( # \"pymysql.connect\" used for connection\n",
    "    host=\"localhost\",\n",
    "    user=\"root\",\n",
    "    password=\"learn@mysql1\",\n",
    "    database=\"students_db\"\n",
    ")"
   ]
  },
  {
   "cell_type": "code",
   "execution_count": 7,
   "id": "d0844281-a084-4256-9cb9-e2a503581c73",
   "metadata": {},
   "outputs": [],
   "source": [
    "cursor=conn.cursor()"
   ]
  },
  {
   "cell_type": "code",
   "execution_count": 9,
   "id": "ea50bd86-7228-4665-b99f-cac337879d7c",
   "metadata": {},
   "outputs": [
    {
     "name": "stdout",
     "output_type": "stream",
     "text": [
      "(1, 'Kuldeep', 'Yadav')\n",
      "(2, 'Vedant', 'Kalal')\n",
      "(3, 'Rahul', 'Patel')\n",
      "(4, 'Aarav', 'Singh')\n",
      "(5, 'Test', 'Student')\n"
     ]
    }
   ],
   "source": [
    "cursor.execute(\"select * from students_info;\")  \n",
    "\n",
    "# Fetch all rows returned by the query\n",
    "results = cursor.fetchall()\n",
    "\n",
    "for row in results:\n",
    "    print(row)"
   ]
  },
  {
   "cell_type": "code",
   "execution_count": 11,
   "id": "7f115be8-671f-4dfc-81d3-102bba8cfa2e",
   "metadata": {},
   "outputs": [
    {
     "data": {
      "text/plain": [
       "2"
      ]
     },
     "execution_count": 11,
     "metadata": {},
     "output_type": "execute_result"
    }
   ],
   "source": [
    "data=[(6,\"Tirth\",\"Popat\"),(7,\"mann\",\"obroi\")]\n",
    "cursor.executemany(\"insert into students_info (roll_num,first_name,last_name) values (%s,%s,%s);\",data)\n"
   ]
  },
  {
   "cell_type": "code",
   "execution_count": 15,
   "id": "d4e82b38-7541-4206-adc8-451812ac0452",
   "metadata": {},
   "outputs": [
    {
     "name": "stdout",
     "output_type": "stream",
     "text": [
      "(1, 'Kuldeep', 'Yadav')\n"
     ]
    }
   ],
   "source": [
    "cursor.execute(\"select * from students_info\")\n",
    "# Fetch the first row from the result set\n",
    "row=cursor.fetchone()\n",
    "print(row)"
   ]
  },
  {
   "cell_type": "code",
   "execution_count": 23,
   "id": "7d4b928c-0148-4c59-a848-1fcee55d73be",
   "metadata": {},
   "outputs": [
    {
     "name": "stdout",
     "output_type": "stream",
     "text": [
      "(1, 'Kuldeep', 'Yadav')\n",
      "(2, 'Vedant', 'Kalal')\n",
      "(3, 'Rahul', 'Patel')\n",
      "(4, 'Aarav', 'Singh')\n"
     ]
    }
   ],
   "source": [
    "cursor.execute(\"select * from students_info\")\n",
    "rows=cursor.fetchmany(4)  # Fetch first 4 rows from the result set\n",
    "for row in rows:\n",
    "    print(row)"
   ]
  },
  {
   "cell_type": "code",
   "execution_count": 25,
   "id": "894f0ad8-b9e0-41b0-9bf2-b0e740e341ba",
   "metadata": {},
   "outputs": [
    {
     "name": "stdout",
     "output_type": "stream",
     "text": [
      "Last Inserted Roll_num: None\n"
     ]
    }
   ],
   "source": [
    "print(\"Last Inserted Roll_num:\",cursor.lastrowid)"
   ]
  },
  {
   "cell_type": "code",
   "execution_count": 27,
   "id": "6e64c839-0603-4e67-8178-14dd831b9d28",
   "metadata": {},
   "outputs": [
    {
     "name": "stdout",
     "output_type": "stream",
     "text": [
      "rows affected: 1\n"
     ]
    }
   ],
   "source": [
    "cursor.execute(\"update students_info set first_name='KULDEEP' where roll_num=1;\")\n",
    "# Print the number of rows affected by the update operation\n",
    "print(\"rows affected:\",cursor.rowcount)"
   ]
  },
  {
   "cell_type": "code",
   "execution_count": 29,
   "id": "a8acd0cc-68b5-44e2-9e5b-d4810bbac8f3",
   "metadata": {},
   "outputs": [
    {
     "name": "stdout",
     "output_type": "stream",
     "text": [
      "(1, 'KULDEEP', 'Yadav')\n"
     ]
    }
   ],
   "source": [
    "cursor.execute(\"select * from students_info\")\n",
    "# Fetch the first row from the result set\n",
    "row=cursor.fetchone()\n",
    "print(row)"
   ]
  },
  {
   "cell_type": "code",
   "execution_count": 31,
   "id": "a9044b3d-32f4-44e4-830f-3ec4b550f2aa",
   "metadata": {},
   "outputs": [],
   "source": [
    "# Close the cursor object to free up resources on the server.\n",
    "cursor.close()\n",
    "\n",
    "# Close the database connection to release the connection to the connection pool (or fully disconnect).\n",
    "conn.close()"
   ]
  },
  {
   "cell_type": "code",
   "execution_count": null,
   "id": "20db1b64-87c6-45e4-ac4b-c3f710b4ff37",
   "metadata": {},
   "outputs": [],
   "source": []
  }
 ],
 "metadata": {
  "kernelspec": {
   "display_name": "Python [conda env:base] *",
   "language": "python",
   "name": "conda-base-py"
  },
  "language_info": {
   "codemirror_mode": {
    "name": "ipython",
    "version": 3
   },
   "file_extension": ".py",
   "mimetype": "text/x-python",
   "name": "python",
   "nbconvert_exporter": "python",
   "pygments_lexer": "ipython3",
   "version": "3.12.7"
  }
 },
 "nbformat": 4,
 "nbformat_minor": 5
}
