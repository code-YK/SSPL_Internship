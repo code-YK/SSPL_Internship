{
 "cells": [
  {
   "cell_type": "markdown",
   "id": "522669c8",
   "metadata": {},
   "source": [
    "# Vectorization Techniques in NLP\n",
    "\n",
    "In Natural Language Processing (NLP), text data must be converted into numerical form (vectors) before applying machine learning models.  \n",
    "This process is called **Vectorization**.\n",
    "\n",
    "## 1. Count Vectorizer\n",
    "- Represents text as a **bag of words** (word counts).\n",
    "- Each document becomes a vector where each element = frequency of a word in that document.\n",
    "\n",
    "### How it works\n",
    "- Converts a collection of text documents into a **Document-Term Matrix (DTM)**.\n",
    "- **Rows** = documents  \n",
    "- **Columns** = unique words in the corpus (vocabulary)  \n",
    "- **Values** = count of each word in the document  \n"
   ]
  },
  {
   "cell_type": "code",
   "execution_count": null,
   "id": "c12fda15",
   "metadata": {},
   "outputs": [
    {
     "name": "stdout",
     "output_type": "stream",
     "text": [
      "Vocabulary: {'like': 3, 'nlp': 5, 'machine': 4, 'learning': 2, 'is': 1, 'fun': 0}\n",
      "Count Matrix:\n",
      " [[0 0 0 1 0 1]\n",
      " [0 0 1 1 1 0]\n",
      " [1 1 0 0 0 1]]\n"
     ]
    }
   ],
   "source": [
    "from sklearn.feature_extraction.text import CountVectorizer\n",
    "\n",
    "# Sample corpus\n",
    "docs = [\"I like NLP\", \"I like Machine Learning\", \"NLP is fun\"]\n",
    "\n",
    "# Initialize count vectorizer\n",
    "cv = CountVectorizer()\n",
    "X = cv.fit_transform(docs)\n",
    "\n",
    "# print dictionary of words with their index\n",
    "print(\"Vocabulary:\", cv.vocabulary_)\n",
    "print(\"Count Matrix:\\n\", X.toarray())\n"
   ]
  },
  {
   "cell_type": "markdown",
   "id": "42cbd98b",
   "metadata": {},
   "source": [
    "Example Corpus:  \n",
    "\n",
    "\n",
    "Vocabulary = {\"I\", \"like\", \"NLP\", \"Machine\", \"Learning\", \"is\", \"fun\"}  \n",
    "\n",
    "The **matrix** will look like:\n",
    "\n",
    "| Document | I | like | NLP | Machine | Learning | is | fun |\n",
    "|----------|---|------|-----|---------|----------|----|-----|\n",
    "| Doc1     | 1 | 1    | 1   | 0       | 0        | 0  | 0   |\n",
    "| Doc2     | 1 | 1    | 0   | 1       | 1        | 0  | 0   |\n",
    "| Doc3     | 0 | 0    | 1   | 0       | 0        | 1  | 1   |\n",
    "\n",
    "\n",
    "### Advantages\n",
    "- Simple and interpretable.  \n",
    "- Easy to implement.  \n",
    "- Provides a clear picture of word frequency in documents.  \n",
    "\n",
    "\n",
    "### Limitations\n",
    "1. **High dimensionality**  \n",
    "   - Vocabulary grows with dataset size → large sparse matrices.  \n",
    "\n",
    "2. **No semantics**  \n",
    "   - \"good\" and \"bad\" are treated as independent and equally distant words.  \n",
    "\n",
    "3. **No word order**  \n",
    "   - Loses context (e.g., \"dog bites man\" vs \"man bites dog\").  \n",
    "\n",
    "4. **Common words dominate**  \n",
    "   - Words like *\"the\"*, *\"is\"*, *\"and\"* may skew results.  \n",
    "\n"
   ]
  },
  {
   "cell_type": "code",
   "execution_count": null,
   "id": "4f1fba1f",
   "metadata": {},
   "outputs": [],
   "source": []
  }
 ],
 "metadata": {
  "kernelspec": {
   "display_name": "base",
   "language": "python",
   "name": "python3"
  },
  "language_info": {
   "codemirror_mode": {
    "name": "ipython",
    "version": 3
   },
   "file_extension": ".py",
   "mimetype": "text/x-python",
   "name": "python",
   "nbconvert_exporter": "python",
   "pygments_lexer": "ipython3",
   "version": "3.12.7"
  }
 },
 "nbformat": 4,
 "nbformat_minor": 5
}
